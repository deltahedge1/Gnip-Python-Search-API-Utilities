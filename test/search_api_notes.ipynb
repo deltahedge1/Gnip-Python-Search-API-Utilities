{
 "cells": [
  {
   "cell_type": "code",
   "execution_count": 1,
   "metadata": {},
   "outputs": [],
   "source": [
    "from IPython.core.interactiveshell import InteractiveShell\n",
    "InteractiveShell.ast_node_interactivity = \"all\"\n",
    "%load_ext autoreload\n",
    "%autoreload 2\n",
    "\n",
    "%matplotlib inline\n",
    "import seaborn as sns\n",
    "\n",
    "import pandas as pd\n",
    "import requests\n",
    "import tweet_parser as tp\n",
    "\n",
    "\n",
    "from tweet_parser.tweet import Tweet\n",
    "\n",
    "from gapi import gnipapi\n",
    "\n",
    "from gapi.gnipapi import *\n",
    "\n",
    "from gapi.utils import *\n",
    "\n",
    "import os\n",
    "\n",
    "\n",
    "\n",
    "import json"
   ]
  },
  {
   "cell_type": "code",
   "execution_count": 5,
   "metadata": {
    "collapsed": true
   },
   "outputs": [],
   "source": [
    "username = \"agonzales@twitter.com\"\n",
    "pw = os.environ.get(\"GNIP_API_PW\", None)\n",
    "search_api = \"fullarchive\"\n",
    "account_name = \"shendrickson\"\n",
    "endpoint_label = \"ogformat.json\"\n",
    "og_search_endpoint = gen_endpoint(search_api, account_name, endpoint_label, count_endpoint=False)\n",
    "as_search_endpoint = gen_endpoint(search_api, account_name, \"dev.json\", count_endpoint=False)\n",
    "og_count_endpoint = gen_endpoint(search_api, account_name, endpoint_label, count_endpoint=True)\n",
    "\n",
    "og_args = {\"username\": username, \"password\": pw, \"url\": og_search_endpoint }\n",
    "as_args = {\"username\": username, \"password\": pw, \"url\": as_search_endpoint }"
   ]
  },
  {
   "cell_type": "code",
   "execution_count": null,
   "metadata": {},
   "outputs": [],
   "source": [
    "invalid_rule = gen_rule_payload(\"\\u2615 OR OR NOE\",  from_date=\"2017-08-21\", to_date=\"2017-08-22\")\n",
    "invalid_rule\n",
    "\n",
    "\n",
    "_rule = \"\"\"\n",
    "\"pydata\"\n",
    "has:geo\n",
    "place_country:us\n",
    "\"\"\"\n",
    "\n",
    "rule = gen_rule_payload(_rule,\n",
    "                        from_date=\"2017-01-01\",\n",
    "                        to_date=\"2017-09-01\",\n",
    "                        max_results=500)\n",
    "rule"
   ]
  },
  {
   "cell_type": "code",
   "execution_count": null,
   "metadata": {
    "collapsed": true
   },
   "outputs": [],
   "source": [
    "as_rs = ResultStream(**as_args, rule_payload=rule, max_results=10000)\n",
    "og_rs = ResultStream(**og_args, rule_payload=rule, max_results=10000)"
   ]
  },
  {
   "cell_type": "code",
   "execution_count": null,
   "metadata": {},
   "outputs": [],
   "source": [
    "as_tweets = list(as_rs.start_stream())\n",
    "og_tweets = list(og_rs.start_stream())"
   ]
  },
  {
   "cell_type": "code",
   "execution_count": null,
   "metadata": {},
   "outputs": [],
   "source": [
    "writestream = list(write_ndjson(\"test.jsonl\", as_rs.start_stream(), passthrough_stream=True))"
   ]
  },
  {
   "cell_type": "code",
   "execution_count": null,
   "metadata": {
    "collapsed": true
   },
   "outputs": [],
   "source": [
    "rs = ResultStream(username, sec.GNIP_API_PW, url, rule, max_results=350)\n",
    "# tweets = [(t.id, t.user_id, t.text) for t in (rs.start_stream())]\n",
    "tweets = list(rs.start_stream())\n",
    "len(tweets)\n",
    "t = tweets[0]\n",
    "print(t.text)"
   ]
  },
  {
   "cell_type": "code",
   "execution_count": null,
   "metadata": {
    "collapsed": true
   },
   "outputs": [],
   "source": [
    "write_ndjson(\"test_file.jsonl\", tweets, append=True )"
   ]
  },
  {
   "cell_type": "code",
   "execution_count": null,
   "metadata": {
    "collapsed": true
   },
   "outputs": [],
   "source": [
    "count_rule = gen_rule_payload(\"\"\"\n",
    "liberals has:geo\n",
    "\"\"\", count_bucket=\"hour\")\n",
    "count_rule"
   ]
  },
  {
   "cell_type": "code",
   "execution_count": null,
   "metadata": {
    "collapsed": true
   },
   "outputs": [],
   "source": [
    "cs = ResultStream(username, sec.GNIP_API_PW, COUNTS_ENDPOINT, count_rule, max_results=350, tweetify=True)\n",
    "cs\n",
    "tweets = [t for t in (cs.start_stream())]\n",
    "len(tweets)\n",
    "t = tweets[0]\n",
    "print(t)"
   ]
  },
  {
   "cell_type": "code",
   "execution_count": null,
   "metadata": {
    "collapsed": true
   },
   "outputs": [],
   "source": []
  },
  {
   "cell_type": "code",
   "execution_count": null,
   "metadata": {
    "collapsed": true
   },
   "outputs": [],
   "source": []
  }
 ],
 "metadata": {
  "kernelspec": {
   "display_name": "Environment (conda_holo)",
   "language": "python",
   "name": "conda_holo"
  },
  "language_info": {
   "codemirror_mode": {
    "name": "ipython",
    "version": 3
   },
   "file_extension": ".py",
   "mimetype": "text/x-python",
   "name": "python",
   "nbconvert_exporter": "python",
   "pygments_lexer": "ipython3",
   "version": "3.6.2"
  }
 },
 "nbformat": 4,
 "nbformat_minor": 2
}
